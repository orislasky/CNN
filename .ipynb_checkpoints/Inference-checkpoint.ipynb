{
 "cells": [
  {
   "cell_type": "code",
   "execution_count": 7,
   "metadata": {},
   "outputs": [],
   "source": [
    "import tensorflow as tf\n",
    "from tensorflow import keras\n",
    "import numpy as np\n",
    "import sys\n",
    "import time\n",
    "from PIL import Image\n",
    "from tensorflow.keras.preprocessing import image\n",
    "from tensorflow.keras import backend as K\n",
    "from tensorflow.keras.preprocessing.image import img_to_array, load_img\n",
    "\n"
   ]
  },
  {
   "cell_type": "code",
   "execution_count": 8,
   "metadata": {},
   "outputs": [],
   "source": [
    "image  = Image.open('color.jpeg')\n",
    "model = tf.keras.models.load_model('model/')\n",
    "image.show()\n",
    "\n",
    "image.save('new_image.png')\n",
    "new_image = image.resize((224, 224))\n",
    "new_image.save('image-size.png')\n",
    "\n"
   ]
  },
  {
   "cell_type": "code",
   "execution_count": 9,
   "metadata": {},
   "outputs": [
    {
     "name": "stdout",
     "output_type": "stream",
     "text": [
      "Model: \"sequential_6\"\n",
      "_________________________________________________________________\n",
      "Layer (type)                 Output Shape              Param #   \n",
      "=================================================================\n",
      "conv2d_12 (Conv2D)           (None, 224, 224, 32)      896       \n",
      "_________________________________________________________________\n",
      "max_pooling2d_12 (MaxPooling (None, 56, 56, 32)        0         \n",
      "_________________________________________________________________\n",
      "dropout_60 (Dropout)         (None, 56, 56, 32)        0         \n",
      "_________________________________________________________________\n",
      "conv2d_13 (Conv2D)           (None, 56, 56, 64)        18496     \n",
      "_________________________________________________________________\n",
      "max_pooling2d_13 (MaxPooling (None, 18, 18, 64)        0         \n",
      "_________________________________________________________________\n",
      "dropout_61 (Dropout)         (None, 18, 18, 64)        0         \n",
      "_________________________________________________________________\n",
      "flatten_12 (Flatten)         (None, 20736)             0         \n",
      "_________________________________________________________________\n",
      "dropout_62 (Dropout)         (None, 20736)             0         \n",
      "_________________________________________________________________\n",
      "dense_42 (Dense)             (None, 64)                1327168   \n",
      "_________________________________________________________________\n",
      "dropout_63 (Dropout)         (None, 64)                0         \n",
      "_________________________________________________________________\n",
      "dense_43 (Dense)             (None, 64)                4160      \n",
      "_________________________________________________________________\n",
      "dropout_64 (Dropout)         (None, 64)                0         \n",
      "_________________________________________________________________\n",
      "flatten_13 (Flatten)         (None, 64)                0         \n",
      "_________________________________________________________________\n",
      "dropout_65 (Dropout)         (None, 64)                0         \n",
      "_________________________________________________________________\n",
      "dense_44 (Dense)             (None, 32)                2080      \n",
      "_________________________________________________________________\n",
      "dropout_66 (Dropout)         (None, 32)                0         \n",
      "_________________________________________________________________\n",
      "dense_45 (Dense)             (None, 32)                1056      \n",
      "_________________________________________________________________\n",
      "dropout_67 (Dropout)         (None, 32)                0         \n",
      "_________________________________________________________________\n",
      "dense_46 (Dense)             (None, 32)                1056      \n",
      "_________________________________________________________________\n",
      "dropout_68 (Dropout)         (None, 32)                0         \n",
      "_________________________________________________________________\n",
      "dense_47 (Dense)             (None, 16)                528       \n",
      "_________________________________________________________________\n",
      "dropout_69 (Dropout)         (None, 16)                0         \n",
      "_________________________________________________________________\n",
      "dense_48 (Dense)             (None, 2)                 34        \n",
      "=================================================================\n",
      "Total params: 1,355,474\n",
      "Trainable params: 1,355,474\n",
      "Non-trainable params: 0\n",
      "_________________________________________________________________\n",
      "None\n",
      "=-=--=-=-=-=-=-=-=-=-=-=-=-=-=-=-=-=-=-=-=-=-=-=-=-=-=-=-=-\n"
     ]
    }
   ],
   "source": [
    "print(model.summary())\n",
    "print(\"=-=--=-=-=-=-=-=-=-=-=-=-=-=-=-=-=-=-=-=-=-=-=-=-=-=-=-=-=-\")\n",
    "\n",
    "\n"
   ]
  },
  {
   "cell_type": "code",
   "execution_count": 10,
   "metadata": {},
   "outputs": [
    {
     "name": "stdout",
     "output_type": "stream",
     "text": [
      "[[0.47692132 0.5230786 ]]\n"
     ]
    }
   ],
   "source": [
    "x = img_to_array(new_image)\n",
    "x = np.expand_dims(x, axis=0)\n",
    "preds = model.predict(x)\n",
    "#prob = model.predict_proba(x)\n",
    "print(preds)"
   ]
  },
  {
   "cell_type": "code",
   "execution_count": null,
   "metadata": {},
   "outputs": [],
   "source": []
  }
 ],
 "metadata": {
  "kernelspec": {
   "display_name": "conda_amazonei_tensorflow2_p36",
   "language": "python",
   "name": "conda_amazonei_tensorflow2_p36"
  },
  "language_info": {
   "codemirror_mode": {
    "name": "ipython",
    "version": 3
   },
   "file_extension": ".py",
   "mimetype": "text/x-python",
   "name": "python",
   "nbconvert_exporter": "python",
   "pygments_lexer": "ipython3",
   "version": "3.6.10"
  }
 },
 "nbformat": 4,
 "nbformat_minor": 4
}
