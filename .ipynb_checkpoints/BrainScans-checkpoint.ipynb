{
 "cells": [
  {
   "cell_type": "code",
   "execution_count": 67,
   "metadata": {},
   "outputs": [],
   "source": [
    "import cv2\n",
    "import numpy as np\n",
    "import os\n",
    "import sys\n",
    "import tensorflow as tf\n",
    "\n",
    "from sklearn.model_selection import train_test_split\n",
    "\n",
    "EPOCHS = 60\n",
    "IMG_WIDTH = 224\n",
    "IMG_HEIGHT = 224\n",
    "NUM_CATEGORIES = 2\n",
    "TEST_SIZE = 0.2"
   ]
  },
  {
   "cell_type": "code",
   "execution_count": 68,
   "metadata": {},
   "outputs": [],
   "source": [
    "def load_data(data_dir):\n",
    "    \"\"\"\n",
    "    Load image data from directory `data_dir`.\n",
    "\n",
    "    Assume `data_dir` has one directory named after each category, numbered\n",
    "    0 through NUM_CATEGORIES - 1. Inside each category directory will be some\n",
    "    number of image files.\n",
    "\n",
    "    Return tuple `(images, labels)`. `images` should be a list of all\n",
    "    of the images in the data directory, where each image is formatted as a\n",
    "    numpy ndarray with dimensions IMG_WIDTH x IMG_HEIGHT x 3. `labels` should\n",
    "    be a list of integer labels, representing the categories for each of the\n",
    "    corresponding `images`.\n",
    "    \"\"\"\n",
    "    images = []\n",
    "    labels=[]\n",
    "    counter = 0\n",
    "    for labelname in os.listdir(data_dir):\n",
    "        path= data_dir + \"/\" + labelname \n",
    "        for pic in os.listdir(path):\n",
    "            path2= data_dir + \"/\" + labelname + \"/\" + pic\n",
    "            img= cv2.imread(path2)\n",
    "            #print (\"path- \", path)\n",
    "            #print (\"path2- \", path2)\n",
    "            re_img=cv2.resize(img,(IMG_WIDTH,IMG_HEIGHT))\n",
    "            images.append(re_img)\n",
    "            labels.append(labelname)\n",
    "            counter= counter+1\n",
    "    print(counter) \n",
    "    return (images,labels)\n",
    "\n",
    "\n",
    "def get_model():\n",
    "    \"\"\"\n",
    "    Returns a compiled convolutional neural network model. Assume that the\n",
    "    `input_shape` of the first layer is `(IMG_WIDTH, IMG_HEIGHT, 3)`.\n",
    "    The output layer should have `NUM_CATEGORIES` units, one for each category.\n",
    "    \"\"\"\n",
    "# Create a convolutional neural network\n",
    "    model = tf.keras.models.Sequential([\n",
    "\n",
    "         # Convolutional layer. Learn 32 filters using a 3x3 kernel\n",
    "         tf.keras.layers.Conv2D(\n",
    "             32, (3, 3), activation=\"relu\", padding = \"same\", input_shape=(IMG_WIDTH, IMG_HEIGHT, 3)\n",
    "         ),\n",
    "\n",
    "\n",
    "         # Max-pooling layer, using 3x3 pool size\n",
    "         tf.keras.layers.MaxPooling2D(pool_size=(4, 4)),\n",
    "         tf.keras.layers.Dropout(0.2),\n",
    "        \n",
    "        tf.keras.layers.Conv2D(\n",
    "             64, (3, 3), activation=\"relu\", padding = \"same\", input_shape=(IMG_WIDTH, IMG_HEIGHT, 3)\n",
    "         ),\n",
    "\n",
    "\n",
    "         # Max-pooling layer, using 3x3 pool size\n",
    "         tf.keras.layers.MaxPooling2D(pool_size=(3, 3)),\n",
    "         tf.keras.layers.Dropout(0.2),\n",
    "         \n",
    "\n",
    "         # Flatten units\n",
    "         tf.keras.layers.Flatten(),\n",
    "         tf.keras.layers.Dropout(0.2),\n",
    "        \n",
    "        \n",
    "\n",
    "         # Add a hidden layer with dropout\n",
    "         tf.keras.layers.Dense(NUM_CATEGORIES*32, activation=\"relu\"),\n",
    "         tf.keras.layers.Dropout(0.3),\n",
    "        \n",
    "         # Add a hidden layer with dropout\n",
    "         tf.keras.layers.Dense(NUM_CATEGORIES*32, activation=\"relu\"),\n",
    "         tf.keras.layers.Dropout(0.3),\n",
    "         \n",
    "         # Flatten units\n",
    "         tf.keras.layers.Flatten(),\n",
    "         tf.keras.layers.Dropout(0.3),\n",
    "        \n",
    "        # Add a hidden layer with dropout\n",
    "         tf.keras.layers.Dense(NUM_CATEGORIES*16, activation=\"relu\"),\n",
    "         tf.keras.layers.Dropout(0.3),\n",
    "        \n",
    "        # Add a hidden layer with dropout\n",
    "         tf.keras.layers.Dense(NUM_CATEGORIES*16, activation=\"relu\"),\n",
    "         tf.keras.layers.Dropout(0.3),\n",
    "        \n",
    "        # Add a hidden layer with dropout\n",
    "         tf.keras.layers.Dense(NUM_CATEGORIES*16, activation=\"relu\"),\n",
    "         tf.keras.layers.Dropout(0.4),\n",
    "        \n",
    "\n",
    "        # Add a hidden layer with dropout\n",
    "         tf.keras.layers.Dense(NUM_CATEGORIES*8, activation=\"relu\"),\n",
    "         tf.keras.layers.Dropout(0.5),\n",
    "         \n",
    "         # Add an output layer with output units for all 10 digits\n",
    "         tf.keras.layers.Dense(NUM_CATEGORIES, activation=\"softmax\")\n",
    "     ])\n",
    "\n",
    "# Train neural network\n",
    "    model.compile(\n",
    "         optimizer=\"adam\",\n",
    "         loss=\"categorical_crossentropy\",\n",
    "         metrics=[\"accuracy\"]\n",
    "   )\n",
    "\n",
    "    return model"
   ]
  },
  {
   "cell_type": "code",
   "execution_count": 69,
   "metadata": {},
   "outputs": [
    {
     "name": "stdout",
     "output_type": "stream",
     "text": [
      "253\n"
     ]
    }
   ],
   "source": [
    "# Get image arrays and labels for all image files\n",
    "    images, labels = load_data(\"/home/ec2-user/SageMaker/BrainScans/brain\")\n",
    "\n",
    "    labels = tf.keras.utils.to_categorical(labels)\n",
    "    x_train, x_test, y_train, y_test = train_test_split(\n",
    "        np.array(images), np.array(labels), test_size=TEST_SIZE)\n"
   ]
  },
  {
   "cell_type": "code",
   "execution_count": 70,
   "metadata": {},
   "outputs": [],
   "source": [
    "model = get_model()\n"
   ]
  },
  {
   "cell_type": "code",
   "execution_count": 71,
   "metadata": {},
   "outputs": [
    {
     "name": "stdout",
     "output_type": "stream",
     "text": [
      "Train on 202 samples\n",
      "Epoch 1/60\n",
      "202/202 [==============================] - 1s 6ms/sample - loss: 26.1727 - accuracy: 0.5594\n",
      "Epoch 2/60\n",
      "202/202 [==============================] - 0s 348us/sample - loss: 5.8452 - accuracy: 0.4455\n",
      "Epoch 3/60\n",
      "202/202 [==============================] - 0s 348us/sample - loss: 1.0253 - accuracy: 0.4901\n",
      "Epoch 4/60\n",
      "202/202 [==============================] - 0s 355us/sample - loss: 0.7789 - accuracy: 0.5446\n",
      "Epoch 5/60\n",
      "202/202 [==============================] - 0s 342us/sample - loss: 0.7070 - accuracy: 0.5594\n",
      "Epoch 6/60\n",
      "202/202 [==============================] - 0s 342us/sample - loss: 0.6616 - accuracy: 0.5545\n",
      "Epoch 7/60\n",
      "202/202 [==============================] - 0s 337us/sample - loss: 0.7350 - accuracy: 0.4158\n",
      "Epoch 8/60\n",
      "202/202 [==============================] - 0s 340us/sample - loss: 0.6964 - accuracy: 0.5396\n",
      "Epoch 9/60\n",
      "202/202 [==============================] - 0s 332us/sample - loss: 0.7032 - accuracy: 0.5149\n",
      "Epoch 10/60\n",
      "202/202 [==============================] - 0s 337us/sample - loss: 0.6837 - accuracy: 0.5149\n",
      "Epoch 11/60\n",
      "202/202 [==============================] - 0s 340us/sample - loss: 0.6949 - accuracy: 0.5000\n",
      "Epoch 12/60\n",
      "202/202 [==============================] - 0s 336us/sample - loss: 0.6793 - accuracy: 0.5594\n",
      "Epoch 13/60\n",
      "202/202 [==============================] - 0s 343us/sample - loss: 0.6937 - accuracy: 0.5000\n",
      "Epoch 14/60\n",
      "202/202 [==============================] - 0s 340us/sample - loss: 0.6916 - accuracy: 0.5396\n",
      "Epoch 15/60\n",
      "202/202 [==============================] - 0s 339us/sample - loss: 0.6914 - accuracy: 0.5545\n",
      "Epoch 16/60\n",
      "202/202 [==============================] - 0s 335us/sample - loss: 0.6860 - accuracy: 0.5297\n",
      "Epoch 17/60\n",
      "202/202 [==============================] - 0s 338us/sample - loss: 0.7309 - accuracy: 0.5594\n",
      "Epoch 18/60\n",
      "202/202 [==============================] - 0s 343us/sample - loss: 0.6621 - accuracy: 0.5941\n",
      "Epoch 19/60\n",
      "202/202 [==============================] - 0s 341us/sample - loss: 0.6694 - accuracy: 0.5495\n",
      "Epoch 20/60\n",
      "202/202 [==============================] - 0s 340us/sample - loss: 0.6853 - accuracy: 0.5347\n",
      "Epoch 21/60\n",
      "202/202 [==============================] - 0s 341us/sample - loss: 0.6909 - accuracy: 0.5149\n",
      "Epoch 22/60\n",
      "202/202 [==============================] - 0s 340us/sample - loss: 0.6961 - accuracy: 0.5396\n",
      "Epoch 23/60\n",
      "202/202 [==============================] - 0s 346us/sample - loss: 0.6709 - accuracy: 0.5941\n",
      "Epoch 24/60\n",
      "202/202 [==============================] - 0s 349us/sample - loss: 0.6789 - accuracy: 0.5693\n",
      "Epoch 25/60\n",
      "202/202 [==============================] - 0s 343us/sample - loss: 0.6845 - accuracy: 0.5743\n",
      "Epoch 26/60\n",
      "202/202 [==============================] - 0s 344us/sample - loss: 0.6751 - accuracy: 0.5693\n",
      "Epoch 27/60\n",
      "202/202 [==============================] - 0s 336us/sample - loss: 0.6637 - accuracy: 0.5842\n",
      "Epoch 28/60\n",
      "202/202 [==============================] - 0s 342us/sample - loss: 0.6683 - accuracy: 0.5644\n",
      "Epoch 29/60\n",
      "202/202 [==============================] - 0s 340us/sample - loss: 0.6957 - accuracy: 0.5594\n",
      "Epoch 30/60\n",
      "202/202 [==============================] - 0s 340us/sample - loss: 0.6784 - accuracy: 0.5594\n",
      "Epoch 31/60\n",
      "202/202 [==============================] - 0s 328us/sample - loss: 0.6711 - accuracy: 0.5594\n",
      "Epoch 32/60\n",
      "202/202 [==============================] - 0s 351us/sample - loss: 0.6741 - accuracy: 0.5545\n",
      "Epoch 33/60\n",
      "202/202 [==============================] - 0s 329us/sample - loss: 0.6791 - accuracy: 0.5396\n",
      "Epoch 34/60\n",
      "202/202 [==============================] - 0s 336us/sample - loss: 0.6810 - accuracy: 0.5743\n",
      "Epoch 35/60\n",
      "202/202 [==============================] - 0s 329us/sample - loss: 0.6642 - accuracy: 0.5693\n",
      "Epoch 36/60\n",
      "202/202 [==============================] - 0s 339us/sample - loss: 0.6867 - accuracy: 0.5743\n",
      "Epoch 37/60\n",
      "202/202 [==============================] - 0s 331us/sample - loss: 0.6771 - accuracy: 0.5347\n",
      "Epoch 38/60\n",
      "202/202 [==============================] - 0s 341us/sample - loss: 0.6726 - accuracy: 0.5990\n",
      "Epoch 39/60\n",
      "202/202 [==============================] - 0s 336us/sample - loss: 0.6773 - accuracy: 0.5545\n",
      "Epoch 40/60\n",
      "202/202 [==============================] - 0s 337us/sample - loss: 0.6595 - accuracy: 0.5594\n",
      "Epoch 41/60\n",
      "202/202 [==============================] - 0s 328us/sample - loss: 0.6667 - accuracy: 0.5594\n",
      "Epoch 42/60\n",
      "202/202 [==============================] - 0s 340us/sample - loss: 0.6713 - accuracy: 0.5594\n",
      "Epoch 43/60\n",
      "202/202 [==============================] - 0s 350us/sample - loss: 0.6605 - accuracy: 0.5594\n",
      "Epoch 44/60\n",
      "202/202 [==============================] - 0s 345us/sample - loss: 0.6698 - accuracy: 0.5545\n",
      "Epoch 45/60\n",
      "202/202 [==============================] - 0s 342us/sample - loss: 0.6832 - accuracy: 0.5495\n",
      "Epoch 46/60\n",
      "202/202 [==============================] - 0s 338us/sample - loss: 0.6690 - accuracy: 0.5347\n",
      "Epoch 47/60\n",
      "202/202 [==============================] - 0s 329us/sample - loss: 0.6797 - accuracy: 0.5446\n",
      "Epoch 48/60\n",
      "202/202 [==============================] - 0s 328us/sample - loss: 0.6726 - accuracy: 0.5644\n",
      "Epoch 49/60\n",
      "202/202 [==============================] - 0s 331us/sample - loss: 0.6730 - accuracy: 0.5644\n",
      "Epoch 50/60\n",
      "202/202 [==============================] - 0s 335us/sample - loss: 0.6553 - accuracy: 0.5644\n",
      "Epoch 51/60\n",
      "202/202 [==============================] - 0s 343us/sample - loss: 0.6823 - accuracy: 0.5594\n",
      "Epoch 52/60\n",
      "202/202 [==============================] - 0s 337us/sample - loss: 0.6663 - accuracy: 0.5693\n",
      "Epoch 53/60\n",
      "202/202 [==============================] - 0s 339us/sample - loss: 0.6463 - accuracy: 0.5693\n",
      "Epoch 54/60\n",
      "202/202 [==============================] - 0s 333us/sample - loss: 0.6504 - accuracy: 0.5842\n",
      "Epoch 55/60\n",
      "202/202 [==============================] - 0s 338us/sample - loss: 0.6704 - accuracy: 0.5594\n",
      "Epoch 56/60\n",
      "202/202 [==============================] - 0s 338us/sample - loss: 0.6955 - accuracy: 0.5891\n",
      "Epoch 57/60\n",
      "202/202 [==============================] - 0s 346us/sample - loss: 0.6671 - accuracy: 0.5693\n",
      "Epoch 58/60\n",
      "202/202 [==============================] - 0s 343us/sample - loss: 0.6931 - accuracy: 0.5446\n",
      "Epoch 59/60\n",
      "202/202 [==============================] - 0s 330us/sample - loss: 0.6689 - accuracy: 0.5644\n",
      "Epoch 60/60\n",
      "202/202 [==============================] - 0s 319us/sample - loss: 0.6819 - accuracy: 0.5297\n",
      "5.284458637237549\n"
     ]
    }
   ],
   "source": [
    "import time\n",
    "\n",
    "start = time.time()\n",
    "\n",
    "# Fit model on training data\n",
    "model_history = model.fit(x_train, y_train, epochs=EPOCHS)\n",
    "\n",
    "end = time.time()\n",
    "print(end - start)"
   ]
  },
  {
   "cell_type": "code",
   "execution_count": 72,
   "metadata": {},
   "outputs": [
    {
     "name": "stdout",
     "output_type": "stream",
     "text": [
      "51/51 - 0s - loss: 0.6477 - accuracy: 0.7059\n"
     ]
    },
    {
     "data": {
      "text/plain": [
       "[0.6477217569070703, 0.7058824]"
      ]
     },
     "execution_count": 72,
     "metadata": {},
     "output_type": "execute_result"
    }
   ],
   "source": [
    "   # Evaluate neural network performance\n",
    "    model.evaluate(x_test,  y_test, verbose=2)"
   ]
  },
  {
   "cell_type": "code",
   "execution_count": 60,
   "metadata": {},
   "outputs": [
    {
     "name": "stdout",
     "output_type": "stream",
     "text": [
      "Model: \"sequential_10\"\n",
      "_________________________________________________________________\n",
      "Layer (type)                 Output Shape              Param #   \n",
      "=================================================================\n",
      "conv2d_20 (Conv2D)           (None, 224, 224, 32)      896       \n",
      "_________________________________________________________________\n",
      "max_pooling2d_20 (MaxPooling (None, 56, 56, 32)        0         \n",
      "_________________________________________________________________\n",
      "dropout_100 (Dropout)        (None, 56, 56, 32)        0         \n",
      "_________________________________________________________________\n",
      "conv2d_21 (Conv2D)           (None, 56, 56, 64)        18496     \n",
      "_________________________________________________________________\n",
      "max_pooling2d_21 (MaxPooling (None, 18, 18, 64)        0         \n",
      "_________________________________________________________________\n",
      "dropout_101 (Dropout)        (None, 18, 18, 64)        0         \n",
      "_________________________________________________________________\n",
      "flatten_20 (Flatten)         (None, 20736)             0         \n",
      "_________________________________________________________________\n",
      "dropout_102 (Dropout)        (None, 20736)             0         \n",
      "_________________________________________________________________\n",
      "dense_70 (Dense)             (None, 64)                1327168   \n",
      "_________________________________________________________________\n",
      "dropout_103 (Dropout)        (None, 64)                0         \n",
      "_________________________________________________________________\n",
      "dense_71 (Dense)             (None, 64)                4160      \n",
      "_________________________________________________________________\n",
      "dropout_104 (Dropout)        (None, 64)                0         \n",
      "_________________________________________________________________\n",
      "flatten_21 (Flatten)         (None, 64)                0         \n",
      "_________________________________________________________________\n",
      "dropout_105 (Dropout)        (None, 64)                0         \n",
      "_________________________________________________________________\n",
      "dense_72 (Dense)             (None, 32)                2080      \n",
      "_________________________________________________________________\n",
      "dropout_106 (Dropout)        (None, 32)                0         \n",
      "_________________________________________________________________\n",
      "dense_73 (Dense)             (None, 32)                1056      \n",
      "_________________________________________________________________\n",
      "dropout_107 (Dropout)        (None, 32)                0         \n",
      "_________________________________________________________________\n",
      "dense_74 (Dense)             (None, 32)                1056      \n",
      "_________________________________________________________________\n",
      "dropout_108 (Dropout)        (None, 32)                0         \n",
      "_________________________________________________________________\n",
      "dense_75 (Dense)             (None, 16)                528       \n",
      "_________________________________________________________________\n",
      "dropout_109 (Dropout)        (None, 16)                0         \n",
      "_________________________________________________________________\n",
      "dense_76 (Dense)             (None, 2)                 34        \n",
      "=================================================================\n",
      "Total params: 1,355,474\n",
      "Trainable params: 1,355,474\n",
      "Non-trainable params: 0\n",
      "_________________________________________________________________\n"
     ]
    }
   ],
   "source": [
    "model.summary()"
   ]
  },
  {
   "cell_type": "code",
   "execution_count": 35,
   "metadata": {},
   "outputs": [
    {
     "ename": "NameError",
     "evalue": "name 'model' is not defined",
     "output_type": "error",
     "traceback": [
      "\u001b[0;31m---------------------------------------------------------------------------\u001b[0m",
      "\u001b[0;31mNameError\u001b[0m                                 Traceback (most recent call last)",
      "\u001b[0;32m<ipython-input-35-fa0f59a2410b>\u001b[0m in \u001b[0;36m<module>\u001b[0;34m\u001b[0m\n\u001b[0;32m----> 1\u001b[0;31m \u001b[0mmodel\u001b[0m\u001b[0;34m.\u001b[0m\u001b[0msave\u001b[0m\u001b[0;34m(\u001b[0m\u001b[0;34m\"model\"\u001b[0m\u001b[0;34m)\u001b[0m\u001b[0;34m\u001b[0m\u001b[0;34m\u001b[0m\u001b[0m\n\u001b[0m",
      "\u001b[0;31mNameError\u001b[0m: name 'model' is not defined"
     ]
    }
   ],
   "source": [
    "model.save(\"model\")"
   ]
  },
  {
   "cell_type": "code",
   "execution_count": 36,
   "metadata": {},
   "outputs": [
    {
     "name": "stdout",
     "output_type": "stream",
     "text": [
      "--2020-11-08 14:43:39--  https://github.com/orislasky/CNN/blob/master/0/1%20no.jpeg\n",
      "Resolving github.com (github.com)... 140.82.112.4\n",
      "Connecting to github.com (github.com)|140.82.112.4|:443... connected.\n",
      "HTTP request sent, awaiting response... 200 OK\n",
      "Length: unspecified [text/html]\n",
      "Saving to: ‘1 no.jpeg.4’\n",
      "\n",
      "1 no.jpeg.4             [ <=>                ]  77.69K  --.-KB/s    in 0.1s    \n",
      "\n",
      "2020-11-08 14:43:40 (547 KB/s) - ‘1 no.jpeg.4’ saved [79559]\n",
      "\n"
     ]
    }
   ],
   "source": [
    "!wget https://github.com/orislasky/CNN/blob/master/0/1%20no.jpeg"
   ]
  },
  {
   "cell_type": "code",
   "execution_count": 37,
   "metadata": {},
   "outputs": [
    {
     "name": "stdout",
     "output_type": "stream",
     "text": [
      "/home/ec2-user/SageMaker/BrainScans\r\n"
     ]
    }
   ],
   "source": [
    "!pwd\n",
    "from PIL import Image"
   ]
  },
  {
   "cell_type": "code",
   "execution_count": 38,
   "metadata": {},
   "outputs": [
    {
     "name": "stdout",
     "output_type": "stream",
     "text": [
      "ls: cannot access /home/ec2-user/SageMaker/object_detection_birds_2020-08-31/1no.jpeg: No such file or directory\r\n"
     ]
    }
   ],
   "source": [
    "!ls /home/ec2-user/SageMaker/object_detection_birds_2020-08-31/1no.jpeg\n"
   ]
  },
  {
   "cell_type": "code",
   "execution_count": 39,
   "metadata": {},
   "outputs": [
    {
     "ename": "FileNotFoundError",
     "evalue": "[Errno 2] No such file or directory: '/home/ec2-user/SageMaker/object_detection_birds_2020-08-31/color.jpeg'",
     "output_type": "error",
     "traceback": [
      "\u001b[0;31m---------------------------------------------------------------------------\u001b[0m",
      "\u001b[0;31mFileNotFoundError\u001b[0m                         Traceback (most recent call last)",
      "\u001b[0;32m<ipython-input-39-12ed8d2755a5>\u001b[0m in \u001b[0;36m<module>\u001b[0;34m\u001b[0m\n\u001b[0;32m----> 1\u001b[0;31m \u001b[0mimage\u001b[0m  \u001b[0;34m=\u001b[0m \u001b[0mImage\u001b[0m\u001b[0;34m.\u001b[0m\u001b[0mopen\u001b[0m\u001b[0;34m(\u001b[0m\u001b[0;34m'/home/ec2-user/SageMaker/object_detection_birds_2020-08-31/color.jpeg'\u001b[0m\u001b[0;34m)\u001b[0m\u001b[0;34m\u001b[0m\u001b[0;34m\u001b[0m\u001b[0m\n\u001b[0m",
      "\u001b[0;32m~/anaconda3/envs/tensorflow2_p36/lib/python3.6/site-packages/PIL/Image.py\u001b[0m in \u001b[0;36mopen\u001b[0;34m(fp, mode)\u001b[0m\n\u001b[1;32m   2807\u001b[0m \u001b[0;34m\u001b[0m\u001b[0m\n\u001b[1;32m   2808\u001b[0m     \u001b[0;32mif\u001b[0m \u001b[0mfilename\u001b[0m\u001b[0;34m:\u001b[0m\u001b[0;34m\u001b[0m\u001b[0;34m\u001b[0m\u001b[0m\n\u001b[0;32m-> 2809\u001b[0;31m         \u001b[0mfp\u001b[0m \u001b[0;34m=\u001b[0m \u001b[0mbuiltins\u001b[0m\u001b[0;34m.\u001b[0m\u001b[0mopen\u001b[0m\u001b[0;34m(\u001b[0m\u001b[0mfilename\u001b[0m\u001b[0;34m,\u001b[0m \u001b[0;34m\"rb\"\u001b[0m\u001b[0;34m)\u001b[0m\u001b[0;34m\u001b[0m\u001b[0;34m\u001b[0m\u001b[0m\n\u001b[0m\u001b[1;32m   2810\u001b[0m         \u001b[0mexclusive_fp\u001b[0m \u001b[0;34m=\u001b[0m \u001b[0;32mTrue\u001b[0m\u001b[0;34m\u001b[0m\u001b[0;34m\u001b[0m\u001b[0m\n\u001b[1;32m   2811\u001b[0m \u001b[0;34m\u001b[0m\u001b[0m\n",
      "\u001b[0;31mFileNotFoundError\u001b[0m: [Errno 2] No such file or directory: '/home/ec2-user/SageMaker/object_detection_birds_2020-08-31/color.jpeg'"
     ]
    }
   ],
   "source": [
    "image  = Image.open('/home/ec2-user/SageMaker/object_detection_birds_2020-08-31/color.jpeg')"
   ]
  },
  {
   "cell_type": "code",
   "execution_count": 97,
   "metadata": {},
   "outputs": [],
   "source": [
    "model = tf.keras.models.load_model('model/')"
   ]
  },
  {
   "cell_type": "code",
   "execution_count": 98,
   "metadata": {},
   "outputs": [],
   "source": [
    "image.show()\n",
    "\n"
   ]
  },
  {
   "cell_type": "code",
   "execution_count": 99,
   "metadata": {},
   "outputs": [],
   "source": [
    "image.save('new_image.png')\n",
    "new_image = image.resize((224, 224))\n",
    "new_image.save('image-size.png')"
   ]
  },
  {
   "cell_type": "code",
   "execution_count": 100,
   "metadata": {},
   "outputs": [
    {
     "name": "stdout",
     "output_type": "stream",
     "text": [
      "Model: \"sequential_6\"\n",
      "_________________________________________________________________\n",
      "Layer (type)                 Output Shape              Param #   \n",
      "=================================================================\n",
      "conv2d_12 (Conv2D)           (None, 224, 224, 32)      896       \n",
      "_________________________________________________________________\n",
      "max_pooling2d_12 (MaxPooling (None, 56, 56, 32)        0         \n",
      "_________________________________________________________________\n",
      "dropout_60 (Dropout)         (None, 56, 56, 32)        0         \n",
      "_________________________________________________________________\n",
      "conv2d_13 (Conv2D)           (None, 56, 56, 64)        18496     \n",
      "_________________________________________________________________\n",
      "max_pooling2d_13 (MaxPooling (None, 18, 18, 64)        0         \n",
      "_________________________________________________________________\n",
      "dropout_61 (Dropout)         (None, 18, 18, 64)        0         \n",
      "_________________________________________________________________\n",
      "flatten_12 (Flatten)         (None, 20736)             0         \n",
      "_________________________________________________________________\n",
      "dropout_62 (Dropout)         (None, 20736)             0         \n",
      "_________________________________________________________________\n",
      "dense_42 (Dense)             (None, 64)                1327168   \n",
      "_________________________________________________________________\n",
      "dropout_63 (Dropout)         (None, 64)                0         \n",
      "_________________________________________________________________\n",
      "dense_43 (Dense)             (None, 64)                4160      \n",
      "_________________________________________________________________\n",
      "dropout_64 (Dropout)         (None, 64)                0         \n",
      "_________________________________________________________________\n",
      "flatten_13 (Flatten)         (None, 64)                0         \n",
      "_________________________________________________________________\n",
      "dropout_65 (Dropout)         (None, 64)                0         \n",
      "_________________________________________________________________\n",
      "dense_44 (Dense)             (None, 32)                2080      \n",
      "_________________________________________________________________\n",
      "dropout_66 (Dropout)         (None, 32)                0         \n",
      "_________________________________________________________________\n",
      "dense_45 (Dense)             (None, 32)                1056      \n",
      "_________________________________________________________________\n",
      "dropout_67 (Dropout)         (None, 32)                0         \n",
      "_________________________________________________________________\n",
      "dense_46 (Dense)             (None, 32)                1056      \n",
      "_________________________________________________________________\n",
      "dropout_68 (Dropout)         (None, 32)                0         \n",
      "_________________________________________________________________\n",
      "dense_47 (Dense)             (None, 16)                528       \n",
      "_________________________________________________________________\n",
      "dropout_69 (Dropout)         (None, 16)                0         \n",
      "_________________________________________________________________\n",
      "dense_48 (Dense)             (None, 2)                 34        \n",
      "=================================================================\n",
      "Total params: 1,355,474\n",
      "Trainable params: 1,355,474\n",
      "Non-trainable params: 0\n",
      "_________________________________________________________________\n",
      "None\n",
      "=-=--=-=-=-=-=-=-=-=-=-=-=-=-=-=-=-=-=-=-=-=-=-=-=-=-=-=-=-\n"
     ]
    }
   ],
   "source": [
    "print(model.summary())\n",
    "print(\"=-=--=-=-=-=-=-=-=-=-=-=-=-=-=-=-=-=-=-=-=-=-=-=-=-=-=-=-=-\")"
   ]
  },
  {
   "cell_type": "code",
   "execution_count": 101,
   "metadata": {},
   "outputs": [
    {
     "name": "stdout",
     "output_type": "stream",
     "text": [
      "[[0.47692132 0.5230786 ]]\n"
     ]
    }
   ],
   "source": [
    "from tensorflow.keras.preprocessing import image\n",
    "from tensorflow.keras import backend as K\n",
    "from tensorflow.keras.preprocessing.image import img_to_array, load_img\n",
    "\n",
    "x = img_to_array(new_image)\n",
    "x = np.expand_dims(x, axis=0)\n",
    "preds = model.predict(x)\n",
    "#prob = model.predict_proba(x)\n",
    "print(preds)"
   ]
  },
  {
   "cell_type": "code",
   "execution_count": null,
   "metadata": {},
   "outputs": [],
   "source": []
  }
 ],
 "metadata": {
  "kernelspec": {
   "display_name": "conda_tensorflow2_p36",
   "language": "python",
   "name": "conda_tensorflow2_p36"
  },
  "language_info": {
   "codemirror_mode": {
    "name": "ipython",
    "version": 3
   },
   "file_extension": ".py",
   "mimetype": "text/x-python",
   "name": "python",
   "nbconvert_exporter": "python",
   "pygments_lexer": "ipython3",
   "version": "3.6.10"
  }
 },
 "nbformat": 4,
 "nbformat_minor": 4
}
