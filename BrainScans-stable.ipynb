{
 "cells": [
  {
   "cell_type": "code",
   "execution_count": 9,
   "metadata": {},
   "outputs": [
    {
     "data": {
      "text/plain": [
       "' use kernel tensorflow_p36 - NOT TF 2'"
      ]
     },
     "execution_count": 9,
     "metadata": {},
     "output_type": "execute_result"
    }
   ],
   "source": [
    "\"\"\" use kernel tensorflow_p36 - NOT TF 2\"\"\"\n"
   ]
  },
  {
   "cell_type": "code",
   "execution_count": 16,
   "metadata": {},
   "outputs": [],
   "source": [
    "import cv2\n",
    "import numpy as np\n",
    "import os\n",
    "import sys\n",
    "import tensorflow as tf\n",
    "\n",
    "from sklearn.model_selection import train_test_split\n",
    "\n",
    "EPOCHS = 20\n",
    "IMG_WIDTH = 224\n",
    "IMG_HEIGHT = 224\n",
    "NUM_CATEGORIES = 2\n",
    "TEST_SIZE = 0.2"
   ]
  },
  {
   "cell_type": "code",
   "execution_count": 17,
   "metadata": {},
   "outputs": [],
   "source": [
    "def load_data(data_dir):\n",
    "    \"\"\"\n",
    "    Load image data from directory `data_dir`.\n",
    "\n",
    "    Assume `data_dir` has one directory named after each category, numbered\n",
    "    0 through NUM_CATEGORIES - 1. Inside each category directory will be some\n",
    "    number of image files.\n",
    "\n",
    "    Return tuple `(images, labels)`. `images` should be a list of all\n",
    "    of the images in the data directory, where each image is formatted as a\n",
    "    numpy ndarray with dimensions IMG_WIDTH x IMG_HEIGHT x 3. `labels` should\n",
    "    be a list of integer labels, representing the categories for each of the\n",
    "    corresponding `images`.\n",
    "    \"\"\"\n",
    "    images = []\n",
    "    labels=[]\n",
    "    counter = 0\n",
    "    for labelname in os.listdir(data_dir):\n",
    "        path= data_dir + \"/\" + labelname \n",
    "        for pic in os.listdir(path):\n",
    "            path2= data_dir + \"/\" + labelname + \"/\" + pic\n",
    "            img= cv2.imread(path2)\n",
    "            #print (\"path- \", path)\n",
    "            #print (\"path2- \", path2)\n",
    "            re_img=cv2.resize(img,(IMG_WIDTH,IMG_HEIGHT))\n",
    "            images.append(re_img)\n",
    "            labels.append(labelname)\n",
    "            counter= counter+1\n",
    "    print(counter) \n",
    "    return (images,labels)\n",
    "\n",
    "\n",
    "def get_model():\n",
    "    \"\"\"\n",
    "    Returns a compiled convolutional neural network model. Assume that the\n",
    "    `input_shape` of the first layer is `(IMG_WIDTH, IMG_HEIGHT, 3)`.\n",
    "    The output layer should have `NUM_CATEGORIES` units, one for each category.\n",
    "        \"\"\"\n",
    "# Create a convolutional neural network\n",
    "    model = tf.keras.models.Sequential([\n",
    "\n",
    "         # Convolutional layer. Learn 32 filters using a 3x3 kernel\n",
    "         tf.keras.layers.Conv2D(\n",
    "             32, (3, 3), activation=\"relu\", padding = \"same\", input_shape=(IMG_WIDTH, IMG_HEIGHT, 3)\n",
    "         ),\n",
    "\n",
    "\n",
    "         # Max-pooling layer, using 3x3 pool size\n",
    "         tf.keras.layers.MaxPooling2D(pool_size=(4, 4)),\n",
    "         tf.keras.layers.Dropout(0.2),\n",
    "        \n",
    "        tf.keras.layers.Conv2D(\n",
    "             64, (3, 3), activation=\"relu\", padding = \"same\", input_shape=(IMG_WIDTH, IMG_HEIGHT, 3)\n",
    "         ),\n",
    "\n",
    "\n",
    "         # Max-pooling layer, using 3x3 pool size\n",
    "         tf.keras.layers.MaxPooling2D(pool_size=(3, 3)),\n",
    "         tf.keras.layers.Dropout(0.2),\n",
    "         \n",
    "\n",
    "         # Flatten units\n",
    "         tf.keras.layers.Flatten(),\n",
    "         tf.keras.layers.Dropout(0.2),\n",
    "        \n",
    "        \n",
    "\n",
    "         # Add a hidden layer with dropout\n",
    "         tf.keras.layers.Dense(NUM_CATEGORIES*32, activation=\"relu\"),\n",
    "         tf.keras.layers.Dropout(0.2),\n",
    "        \n",
    "         \n",
    "         # Flatten units\n",
    "         tf.keras.layers.Flatten(),\n",
    "         tf.keras.layers.Dropout(0.2),\n",
    "        \n",
    "        \n",
    "        # Add a hidden layer with dropout\n",
    "         tf.keras.layers.Dense(NUM_CATEGORIES*16, activation=\"relu\"),\n",
    "         tf.keras.layers.Dropout(0.2),\n",
    "        \n",
    "\n",
    "        # Add a hidden layer with dropout\n",
    "         tf.keras.layers.Dense(NUM_CATEGORIES*8, activation=\"relu\"),\n",
    "         tf.keras.layers.Dropout(0.2),\n",
    "         \n",
    "         # Add an output layer with number of categories\n",
    "         tf.keras.layers.Dense(NUM_CATEGORIES, activation=\"softmax\")\n",
    "     ])\n",
    "\n",
    "# Train neural network\n",
    "    model.compile(\n",
    "         optimizer=\"adam\",\n",
    "         loss=\"categorical_crossentropy\",\n",
    "         metrics=[\"accuracy\"]\n",
    "   )\n",
    "\n",
    "    return model\n",
    "\n"
   ]
  },
  {
   "cell_type": "code",
   "execution_count": 18,
   "metadata": {},
   "outputs": [
    {
     "name": "stdout",
     "output_type": "stream",
     "text": [
      "253\n"
     ]
    }
   ],
   "source": [
    "# Get image arrays and labels for all image files\n",
    "    images, labels = load_data(\"/home/ec2-user/SageMaker/CNN/brain\")\n",
    "\n",
    "    labels = tf.keras.utils.to_categorical(labels)\n",
    "    x_train, x_test, y_train, y_test = train_test_split(\n",
    "        np.array(images), np.array(labels), test_size=TEST_SIZE)\n"
   ]
  },
  {
   "cell_type": "code",
   "execution_count": null,
   "metadata": {},
   "outputs": [],
   "source": []
  },
  {
   "cell_type": "code",
   "execution_count": 19,
   "metadata": {},
   "outputs": [],
   "source": [
    "model = get_model()\n"
   ]
  },
  {
   "cell_type": "code",
   "execution_count": 20,
   "metadata": {},
   "outputs": [
    {
     "name": "stdout",
     "output_type": "stream",
     "text": [
      "Train on 202 samples\n",
      "Epoch 1/20\n",
      "202/202 [==============================] - 2s 10ms/sample - loss: 30.3425 - acc: 0.5644\n",
      "Epoch 2/20\n",
      "202/202 [==============================] - 1s 6ms/sample - loss: 18.8523 - acc: 0.5792\n",
      "Epoch 3/20\n",
      "202/202 [==============================] - 1s 6ms/sample - loss: 1.4941 - acc: 0.6535\n",
      "Epoch 4/20\n",
      "202/202 [==============================] - 1s 6ms/sample - loss: 0.8209 - acc: 0.6881\n",
      "Epoch 5/20\n",
      "202/202 [==============================] - 1s 6ms/sample - loss: 0.7975 - acc: 0.6436\n",
      "Epoch 6/20\n",
      "202/202 [==============================] - 1s 6ms/sample - loss: 0.5793 - acc: 0.7624\n",
      "Epoch 7/20\n",
      "202/202 [==============================] - 1s 6ms/sample - loss: 0.6727 - acc: 0.6634\n",
      "Epoch 8/20\n",
      "202/202 [==============================] - 1s 6ms/sample - loss: 0.5394 - acc: 0.7525\n",
      "Epoch 9/20\n",
      "202/202 [==============================] - 1s 6ms/sample - loss: 0.5967 - acc: 0.7228\n",
      "Epoch 10/20\n",
      "202/202 [==============================] - 1s 6ms/sample - loss: 0.5203 - acc: 0.7624\n",
      "Epoch 11/20\n",
      "202/202 [==============================] - 1s 6ms/sample - loss: 0.4681 - acc: 0.7822\n",
      "Epoch 12/20\n",
      "202/202 [==============================] - 1s 6ms/sample - loss: 0.4555 - acc: 0.8020\n",
      "Epoch 13/20\n",
      "202/202 [==============================] - 1s 6ms/sample - loss: 0.4718 - acc: 0.7772\n",
      "Epoch 14/20\n",
      "202/202 [==============================] - 1s 6ms/sample - loss: 0.4340 - acc: 0.7624\n",
      "Epoch 15/20\n",
      "202/202 [==============================] - 1s 6ms/sample - loss: 0.4030 - acc: 0.7970\n",
      "Epoch 16/20\n",
      "202/202 [==============================] - 1s 6ms/sample - loss: 0.4389 - acc: 0.7921\n",
      "Epoch 17/20\n",
      "202/202 [==============================] - 1s 6ms/sample - loss: 0.5069 - acc: 0.7921\n",
      "Epoch 18/20\n",
      "202/202 [==============================] - 1s 6ms/sample - loss: 0.4497 - acc: 0.7723\n",
      "Epoch 19/20\n",
      "202/202 [==============================] - 1s 6ms/sample - loss: 0.4439 - acc: 0.7624\n",
      "Epoch 20/20\n",
      "202/202 [==============================] - 1s 6ms/sample - loss: 0.4754 - acc: 0.8020\n",
      "24.465287923812866\n"
     ]
    }
   ],
   "source": [
    "import time\n",
    "\n",
    "start = time.time()\n",
    "\n",
    "# Fit model on training data\n",
    "model_history = model.fit(x_train, y_train, epochs=EPOCHS)\n",
    "\n",
    "end = time.time()\n",
    "print(end - start)"
   ]
  },
  {
   "cell_type": "code",
   "execution_count": 21,
   "metadata": {},
   "outputs": [
    {
     "name": "stdout",
     "output_type": "stream",
     "text": [
      "51/51 - 0s - loss: 0.5692 - acc: 0.6275\n"
     ]
    },
    {
     "data": {
      "text/plain": [
       "[0.5691947224093419, 0.627451]"
      ]
     },
     "execution_count": 21,
     "metadata": {},
     "output_type": "execute_result"
    }
   ],
   "source": [
    "   # Evaluate neural network performance\n",
    "    model.evaluate(x_test,  y_test, verbose=2)"
   ]
  },
  {
   "cell_type": "code",
   "execution_count": 22,
   "metadata": {},
   "outputs": [
    {
     "name": "stdout",
     "output_type": "stream",
     "text": [
      "Model: \"sequential_2\"\n",
      "_________________________________________________________________\n",
      "Layer (type)                 Output Shape              Param #   \n",
      "=================================================================\n",
      "conv2d_4 (Conv2D)            (None, 224, 224, 32)      896       \n",
      "_________________________________________________________________\n",
      "max_pooling2d_4 (MaxPooling2 (None, 56, 56, 32)        0         \n",
      "_________________________________________________________________\n",
      "dropout_19 (Dropout)         (None, 56, 56, 32)        0         \n",
      "_________________________________________________________________\n",
      "conv2d_5 (Conv2D)            (None, 56, 56, 64)        18496     \n",
      "_________________________________________________________________\n",
      "max_pooling2d_5 (MaxPooling2 (None, 18, 18, 64)        0         \n",
      "_________________________________________________________________\n",
      "dropout_20 (Dropout)         (None, 18, 18, 64)        0         \n",
      "_________________________________________________________________\n",
      "flatten_4 (Flatten)          (None, 20736)             0         \n",
      "_________________________________________________________________\n",
      "dropout_21 (Dropout)         (None, 20736)             0         \n",
      "_________________________________________________________________\n",
      "dense_13 (Dense)             (None, 64)                1327168   \n",
      "_________________________________________________________________\n",
      "dropout_22 (Dropout)         (None, 64)                0         \n",
      "_________________________________________________________________\n",
      "flatten_5 (Flatten)          (None, 64)                0         \n",
      "_________________________________________________________________\n",
      "dropout_23 (Dropout)         (None, 64)                0         \n",
      "_________________________________________________________________\n",
      "dense_14 (Dense)             (None, 32)                2080      \n",
      "_________________________________________________________________\n",
      "dropout_24 (Dropout)         (None, 32)                0         \n",
      "_________________________________________________________________\n",
      "dense_15 (Dense)             (None, 16)                528       \n",
      "_________________________________________________________________\n",
      "dropout_25 (Dropout)         (None, 16)                0         \n",
      "_________________________________________________________________\n",
      "dense_16 (Dense)             (None, 2)                 34        \n",
      "=================================================================\n",
      "Total params: 1,349,202\n",
      "Trainable params: 1,349,202\n",
      "Non-trainable params: 0\n",
      "_________________________________________________________________\n"
     ]
    }
   ],
   "source": [
    "model.summary()"
   ]
  },
  {
   "cell_type": "code",
   "execution_count": 23,
   "metadata": {},
   "outputs": [],
   "source": [
    "model.save(\"model-clean\")"
   ]
  },
  {
   "cell_type": "code",
   "execution_count": null,
   "metadata": {},
   "outputs": [],
   "source": []
  }
 ],
 "metadata": {
  "kernelspec": {
   "display_name": "conda_tensorflow_p36",
   "language": "python",
   "name": "conda_tensorflow_p36"
  },
  "language_info": {
   "codemirror_mode": {
    "name": "ipython",
    "version": 3
   },
   "file_extension": ".py",
   "mimetype": "text/x-python",
   "name": "python",
   "nbconvert_exporter": "python",
   "pygments_lexer": "ipython3",
   "version": "3.6.10"
  }
 },
 "nbformat": 4,
 "nbformat_minor": 4
}
